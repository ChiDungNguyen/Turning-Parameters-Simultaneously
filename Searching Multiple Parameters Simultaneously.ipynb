{
 "cells": [
  {
   "cell_type": "code",
   "execution_count": 1,
   "metadata": {},
   "outputs": [],
   "source": [
    "#===========================================================\n",
    "#  Stage 1: Load data set and perform data pre-processing\n",
    "#===========================================================\n",
    "\n",
    "# Import pandas and load data downloaded from https://www.kaggle.com/uciml/pima-indians-diabetes-database#diabetes.csv: \n",
    "import pandas as pd\n",
    "d = pd.read_csv(\"E:\\PythonLearning\\diabetes.csv\")\n",
    "\n",
    "# Drop Pregnancies and Outcome column: \n",
    "d1 = d.drop([\"Pregnancies\", \"Outcome\"], axis = 1)\n",
    "\n",
    "# Convert zeros to NA values: \n",
    "import numpy as np\n",
    "d1 = d1.replace(0, np.nan)\n",
    "\n",
    "# Replace NA values by mean: \n",
    "d1 = d1.fillna(d1.mean())\n",
    "\n",
    "# Add Pregnancies column: \n",
    "df = d1.assign(Pregnancies = d[\"Pregnancies\"])\n",
    "\n",
    "# Write a function for normalizing 0 - 1 data: \n",
    "def normalize_01(data):\n",
    "    nho_nhat = data.min()\n",
    "    lon_nhat = data.max(0)\n",
    "    scaled = (data - nho_nhat) / (lon_nhat - nho_nhat)\n",
    "    return scaled\n",
    "\n",
    "\n",
    "# Apply this function for our data: \n",
    "df = df[[\"Pregnancies\", \"Glucose\", \"BloodPressure\", \"SkinThickness\", \n",
    "        \"Insulin\", \"BMI\", \"DiabetesPedigreeFunction\", \"Age\"]].apply(normalize_01)\n",
    "\n",
    "# Add Outcome column: \n",
    "df = df.assign(Outcome = d[\"Outcome\"])"
   ]
  },
  {
   "cell_type": "code",
   "execution_count": 2,
   "metadata": {},
   "outputs": [
    {
     "name": "stderr",
     "output_type": "stream",
     "text": [
      "C:\\Users\\Zbook\\Anaconda3\\lib\\site-packages\\sklearn\\cross_validation.py:41: DeprecationWarning: This module was deprecated in version 0.18 in favor of the model_selection module into which all the refactored classes and functions are moved. Also note that the interface of the new CV iterators are different from that of this module. This module will be removed in 0.20.\n",
      "  \"This module will be removed in 0.20.\", DeprecationWarning)\n",
      "C:\\Users\\Zbook\\Anaconda3\\lib\\site-packages\\sklearn\\grid_search.py:42: DeprecationWarning: This module was deprecated in version 0.18 in favor of the model_selection module into which all the refactored classes and functions are moved. This module will be removed in 0.20.\n",
      "  DeprecationWarning)\n"
     ]
    },
    {
     "data": {
      "text/plain": [
       "[mean: 0.68490, std: 0.04113, params: {'n_neighbors': 1, 'weights': 'uniform'},\n",
       " mean: 0.68490, std: 0.04113, params: {'n_neighbors': 1, 'weights': 'distance'},\n",
       " mean: 0.73307, std: 0.04665, params: {'n_neighbors': 3, 'weights': 'uniform'},\n",
       " mean: 0.72917, std: 0.04866, params: {'n_neighbors': 3, 'weights': 'distance'},\n",
       " mean: 0.75260, std: 0.05535, params: {'n_neighbors': 5, 'weights': 'uniform'},\n",
       " mean: 0.75391, std: 0.05574, params: {'n_neighbors': 5, 'weights': 'distance'},\n",
       " mean: 0.75391, std: 0.05474, params: {'n_neighbors': 7, 'weights': 'uniform'},\n",
       " mean: 0.75521, std: 0.05547, params: {'n_neighbors': 7, 'weights': 'distance'}]"
      ]
     },
     "execution_count": 2,
     "metadata": {},
     "output_type": "execute_result"
    }
   ],
   "source": [
    "#========================================================================\n",
    "#  Using GridSearchCV for Searching Multiple Parameters Simultaneously\n",
    "#========================================================================\n",
    "\n",
    "X = df[df.columns[0:8]]\n",
    "Y = df[\"Outcome\"]\n",
    "\n",
    "# Set a range of K for evaluating KNN model: \n",
    "so_lang_gieng = np.array([1, 3, 5, 7])\n",
    "\n",
    "# Another Parameter besides K that we might turn is the voting weights: \n",
    "weight_options = [\"uniform\", \"distance\"]\n",
    "\n",
    "# Set a parameter grid: \n",
    "param_grid = dict(n_neighbors = so_lang_gieng, weights = weight_options)\n",
    "\n",
    "# Import KNeighborsClassifier() function for using KNN: \n",
    "from sklearn.neighbors import KNeighborsClassifier\n",
    "\n",
    "# Instantiate a KNN model: \n",
    "knn = KNeighborsClassifier(n_neighbors = 1)\n",
    "\n",
    "# Fit the grid with our data:\n",
    "from sklearn.grid_search import GridSearchCV\n",
    "grid = GridSearchCV(knn, param_grid, cv = 10, scoring = \"accuracy\") \n",
    "grid.fit(X, Y)\n",
    "\n",
    "# Print results: \n",
    "grid.grid_scores_"
   ]
  },
  {
   "cell_type": "code",
   "execution_count": 3,
   "metadata": {},
   "outputs": [
    {
     "data": {
      "text/plain": [
       "{'n_neighbors': 7, 'weights': 'distance'}"
      ]
     },
     "execution_count": 3,
     "metadata": {},
     "output_type": "execute_result"
    }
   ],
   "source": [
    "# Show the optimal K and method of weighting: \n",
    "grid.best_params_"
   ]
  },
  {
   "cell_type": "code",
   "execution_count": 4,
   "metadata": {},
   "outputs": [
    {
     "data": {
      "text/plain": [
       "0.7552083333333334"
      ]
     },
     "execution_count": 4,
     "metadata": {},
     "output_type": "execute_result"
    }
   ],
   "source": [
    "# Show average accuracy rate (10-fold cross validation): \n",
    "grid.best_score_"
   ]
  },
  {
   "cell_type": "code",
   "execution_count": 5,
   "metadata": {},
   "outputs": [
    {
     "data": {
      "text/plain": [
       "KNeighborsClassifier(algorithm='auto', leaf_size=30, metric='minkowski',\n",
       "           metric_params=None, n_jobs=1, n_neighbors=7, p=2,\n",
       "           weights='distance')"
      ]
     },
     "execution_count": 5,
     "metadata": {},
     "output_type": "execute_result"
    }
   ],
   "source": [
    "# Show all information about the best KNN: \n",
    "grid.best_estimator_"
   ]
  },
  {
   "cell_type": "code",
   "execution_count": 6,
   "metadata": {},
   "outputs": [
    {
     "data": {
      "text/plain": [
       "KNeighborsClassifier(algorithm='auto', leaf_size=30, metric='minkowski',\n",
       "           metric_params=None, n_jobs=1, n_neighbors=7, p=2,\n",
       "           weights='distance')"
      ]
     },
     "execution_count": 6,
     "metadata": {},
     "output_type": "execute_result"
    }
   ],
   "source": [
    "#==============================================================\n",
    "#  Stage 3: Using best parameters for building KNN classifier\n",
    "#==============================================================\n",
    "\n",
    "# Import function for spliting data: \n",
    "from sklearn.model_selection import train_test_split\n",
    "\n",
    "# Split our data: \n",
    "train, test = train_test_split(df, \n",
    "                               # Use 80% data for training KNN: \n",
    "                               test_size = 0.2, \n",
    "                               # For reproducing results: \n",
    "                               random_state = 0, \n",
    "                               stratify = df[\"Outcome\"])\n",
    "\n",
    "X_train = train[train.columns[0:8]]\n",
    "y_train = train[train.columns[-1]]\n",
    "\n",
    "X_test = test[test.columns[0:8]]\n",
    "y_test = test[test.columns[-1]]\n",
    "\n",
    "\n",
    "# Train KNN model with best parameters: \n",
    "best_knn = KNeighborsClassifier(n_neighbors = 7, weights = \"distance\")\n",
    "\n",
    "# Fit with X our data: \n",
    "best_knn.fit(X_train, y_train)"
   ]
  },
  {
   "cell_type": "code",
   "execution_count": 7,
   "metadata": {},
   "outputs": [
    {
     "data": {
      "text/plain": [
       "array([0, 0, 0, 0, 1, 0, 1, 0, 0, 0, 0, 0, 0, 0, 1, 0, 0, 0, 0, 1, 0, 0,\n",
       "       1, 0, 0, 1, 1, 0, 0, 0, 0, 0, 1, 1, 1, 0, 1, 0, 0, 0, 0, 0, 1, 0,\n",
       "       1, 1, 0, 0, 1, 0, 0, 0, 1, 1, 0, 1, 0, 0, 0, 0, 0, 0, 1, 1, 0, 0,\n",
       "       0, 1, 0, 0, 0, 1, 0, 0, 0, 0, 0, 0, 0, 1, 0, 0, 1, 0, 1, 1, 0, 0,\n",
       "       0, 0, 0, 0, 0, 1, 1, 0, 1, 0, 1, 0, 1, 0, 0, 0, 0, 0, 0, 1, 0, 0,\n",
       "       0, 0, 0, 1, 0, 0, 1, 0, 0, 0, 1, 0, 1, 0, 0, 0, 0, 1, 0, 0, 0, 1,\n",
       "       0, 0, 1, 1, 0, 1, 1, 1, 0, 0, 1, 0, 0, 1, 0, 0, 1, 0, 1, 1, 0, 0],\n",
       "      dtype=int64)"
      ]
     },
     "execution_count": 7,
     "metadata": {},
     "output_type": "execute_result"
    }
   ],
   "source": [
    "# Make predictions: \n",
    "pred = best_knn.predict(X_test)\n",
    "pred"
   ]
  },
  {
   "cell_type": "code",
   "execution_count": 8,
   "metadata": {},
   "outputs": [
    {
     "data": {
      "text/plain": [
       "0.7662337662337663"
      ]
     },
     "execution_count": 8,
     "metadata": {},
     "output_type": "execute_result"
    }
   ],
   "source": [
    "# Calculate accuracy rate on test data: \n",
    "import numpy as np\n",
    "np.mean(pred == y_test)"
   ]
  },
  {
   "cell_type": "code",
   "execution_count": 9,
   "metadata": {},
   "outputs": [
    {
     "data": {
      "text/html": [
       "<div>\n",
       "<style scoped>\n",
       "    .dataframe tbody tr th:only-of-type {\n",
       "        vertical-align: middle;\n",
       "    }\n",
       "\n",
       "    .dataframe tbody tr th {\n",
       "        vertical-align: top;\n",
       "    }\n",
       "\n",
       "    .dataframe thead th {\n",
       "        text-align: right;\n",
       "    }\n",
       "</style>\n",
       "<table border=\"1\" class=\"dataframe\">\n",
       "  <thead>\n",
       "    <tr style=\"text-align: right;\">\n",
       "      <th></th>\n",
       "      <th>0</th>\n",
       "      <th>1</th>\n",
       "    </tr>\n",
       "  </thead>\n",
       "  <tbody>\n",
       "    <tr>\n",
       "      <th>0</th>\n",
       "      <td>0.868386</td>\n",
       "      <td>0.131614</td>\n",
       "    </tr>\n",
       "    <tr>\n",
       "      <th>1</th>\n",
       "      <td>1.000000</td>\n",
       "      <td>0.000000</td>\n",
       "    </tr>\n",
       "    <tr>\n",
       "      <th>2</th>\n",
       "      <td>1.000000</td>\n",
       "      <td>0.000000</td>\n",
       "    </tr>\n",
       "    <tr>\n",
       "      <th>3</th>\n",
       "      <td>0.600912</td>\n",
       "      <td>0.399088</td>\n",
       "    </tr>\n",
       "    <tr>\n",
       "      <th>4</th>\n",
       "      <td>0.418403</td>\n",
       "      <td>0.581597</td>\n",
       "    </tr>\n",
       "  </tbody>\n",
       "</table>\n",
       "</div>"
      ],
      "text/plain": [
       "          0         1\n",
       "0  0.868386  0.131614\n",
       "1  1.000000  0.000000\n",
       "2  1.000000  0.000000\n",
       "3  0.600912  0.399088\n",
       "4  0.418403  0.581597"
      ]
     },
     "execution_count": 9,
     "metadata": {},
     "output_type": "execute_result"
    }
   ],
   "source": [
    "# We can show probability for our predictions: \n",
    "pred_prob = best_knn.predict_proba(X_test)\n",
    "pd.DataFrame(pred_prob).head()"
   ]
  },
  {
   "cell_type": "code",
   "execution_count": null,
   "metadata": {},
   "outputs": [],
   "source": []
  }
 ],
 "metadata": {
  "kernelspec": {
   "display_name": "Python 3",
   "language": "python",
   "name": "python3"
  },
  "language_info": {
   "codemirror_mode": {
    "name": "ipython",
    "version": 3
   },
   "file_extension": ".py",
   "mimetype": "text/x-python",
   "name": "python",
   "nbconvert_exporter": "python",
   "pygments_lexer": "ipython3",
   "version": "3.6.4"
  }
 },
 "nbformat": 4,
 "nbformat_minor": 2
}
